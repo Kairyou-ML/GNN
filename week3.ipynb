{
 "cells": [
  {
   "cell_type": "markdown",
   "id": "8d0ff96a",
   "metadata": {},
   "source": [
    "By the end of this week, you will:\n",
    "- Understand the motivations behind advanced GNN models\n",
    "- Implement GAT, GraphSAGE, and GIN using PyTorch Geometric\n",
    "- Train and evaluate them on the Cora dataset\n",
    "- Compare performance and visualize learned embeddings"
   ]
  },
  {
   "cell_type": "markdown",
   "id": "af124c11",
   "metadata": {},
   "source": [
    "# 1. Recap — Why Go Beyond GCN?\n",
    "| Problem with GCN                            | Solution Model                              |\n",
    "| ------------------------------------------- | ------------------------------------------- |\n",
    "| Treats all neighbors equally                | **GAT** — uses attention to weigh neighbors |\n",
    "| Requires full-graph training (not scalable) | **GraphSAGE** — samples neighbors           |\n",
    "| Limited expressive power                    | **GIN** — injects MLP expressiveness        |\n"
   ]
  },
  {
   "cell_type": "markdown",
   "id": "90734a42",
   "metadata": {},
   "source": [
    "# 2. Dataset Setup (Cora Again)"
   ]
  },
  {
   "cell_type": "code",
   "execution_count": 6,
   "metadata": {},
   "outputs": [],
   "source": [
    "from torch_geometric.datasets import Planetoid\n",
    "import torch\n",
    "import torch.nn.functional as F\n",
    "\n",
    "dataset = Planetoid(root=\"data/Planetoid\", name=\"Cora\")\n",
    "data = dataset[0]\n"
   ]
  },
  {
   "cell_type": "markdown",
   "id": "dcbaa48e",
   "metadata": {},
   "source": [
    "# 3. Graph Attention Network (GAT)"
   ]
  },
  {
   "cell_type": "markdown",
   "id": "973505e2",
   "metadata": {},
   "source": [
    "Idea:\n",
    "\n",
    "Each node attends differently to its neighbors.\n",
    "Attention coefficients $α_{ij}$\n",
    "\n",
    " determine the importance of neighbor j to node i."
   ]
  },
  {
   "cell_type": "code",
   "execution_count": 7,
   "id": "bb572a7b",
   "metadata": {},
   "outputs": [],
   "source": [
    "from torch_geometric.nn import GATConv\n",
    "\n",
    "class GAT(torch.nn.Module):\n",
    "    def __init__(self, in_channels, hidden_channels, out_channels, heads=8):\n",
    "        super().__init__()\n",
    "        self.conv1 = GATConv(in_channels, hidden_channels, heads=heads, dropout=0.6)\n",
    "        self.conv2 = GATConv(hidden_channels * heads, out_channels, heads=1, concat=False, dropout=0.6)\n",
    "\n",
    "    def forward(self, data):\n",
    "        x, edge_index = data.x, data.edge_index\n",
    "        x = F.dropout(x, p=0.6, training=self.training)\n",
    "        x = F.elu(self.conv1(x, edge_index))\n",
    "        x = F.dropout(x, p=0.6, training=self.training)\n",
    "        x = self.conv2(x, edge_index)\n",
    "        return F.log_softmax(x, dim=1)\n"
   ]
  },
  {
   "cell_type": "code",
   "execution_count": 8,
   "id": "cdbb110e",
   "metadata": {},
   "outputs": [
    {
     "name": "stdout",
     "output_type": "stream",
     "text": [
      "GAT Accuracy: 0.6080\n"
     ]
    }
   ],
   "source": [
    "model = GAT(dataset.num_features, 8, dataset.num_classes)\n",
    "optimizer = torch.optim.Adam(model.parameters(), lr=0.005, weight_decay=5e-4)\n",
    "\n",
    "for epoch in range(200):\n",
    "    model.train()\n",
    "    optimizer.zero_grad()\n",
    "    out = model(data)\n",
    "    loss = F.nll_loss(out[data.train_mask], data.y[data.train_mask])\n",
    "    loss.backward()\n",
    "    optimizer.step()\n",
    "\n",
    "model.eval()\n",
    "pred = out.argmax(dim=1)\n",
    "acc = (pred[data.test_mask] == data.y[data.test_mask]).sum() / int(data.test_mask.sum())\n",
    "print(f\"GAT Accuracy: {acc:.4f}\")\n"
   ]
  },
  {
   "cell_type": "markdown",
   "id": "7079890f",
   "metadata": {},
   "source": [
    "# 4. GraphSAGE (Inductive Learning)"
   ]
  },
  {
   "cell_type": "markdown",
   "id": "86aa239f",
   "metadata": {},
   "source": [
    "Idea:\n",
    "\n",
    "Instead of full adjacency aggregation, sample a fixed number of neighbors.\n",
    "Supports inductive tasks (new unseen nodes)."
   ]
  },
  {
   "cell_type": "code",
   "execution_count": 9,
   "id": "a82279c6",
   "metadata": {},
   "outputs": [],
   "source": [
    "from torch_geometric.nn import SAGEConv\n",
    "\n",
    "class GraphSAGE(torch.nn.Module):\n",
    "    def __init__(self, in_channels, hidden_channels, out_channels):\n",
    "        super().__init__()\n",
    "        self.conv1 = SAGEConv(in_channels, hidden_channels)\n",
    "        self.conv2 = SAGEConv(hidden_channels, out_channels)\n",
    "\n",
    "    def forward(self, data):\n",
    "        x, edge_index = data.x, data.edge_index\n",
    "        x = F.relu(self.conv1(x, edge_index))\n",
    "        x = F.dropout(x, p=0.5, training=self.training)\n",
    "        x = self.conv2(x, edge_index)\n",
    "        return F.log_softmax(x, dim=1)\n"
   ]
  },
  {
   "cell_type": "code",
   "execution_count": 10,
   "id": "502c4ddb",
   "metadata": {},
   "outputs": [
    {
     "name": "stdout",
     "output_type": "stream",
     "text": [
      "GraphSAGE Accuracy: 0.7400\n"
     ]
    }
   ],
   "source": [
    "model = GraphSAGE(dataset.num_features, 16, dataset.num_classes)\n",
    "optimizer = torch.optim.Adam(model.parameters(), lr=0.01, weight_decay=5e-4)\n",
    "\n",
    "for epoch in range(200):\n",
    "    model.train()\n",
    "    optimizer.zero_grad()\n",
    "    out = model(data)\n",
    "    loss = F.nll_loss(out[data.train_mask], data.y[data.train_mask])\n",
    "    loss.backward()\n",
    "    optimizer.step()\n",
    "\n",
    "model.eval()\n",
    "pred = out.argmax(dim=1)\n",
    "acc = (pred[data.test_mask] == data.y[data.test_mask]).sum() / int(data.test_mask.sum())\n",
    "print(f\"GraphSAGE Accuracy: {acc:.4f}\")\n"
   ]
  },
  {
   "cell_type": "markdown",
   "id": "2f7a2095",
   "metadata": {},
   "source": [
    "# 5. Graph Isomorphism Network (GIN)"
   ]
  },
  {
   "cell_type": "markdown",
   "id": "8c03c123",
   "metadata": {},
   "source": [
    "Idea:\n",
    "\n",
    "Aims to be as powerful as the Weisfeiler-Lehman (WL) test for graph isomorphism.\n",
    "Uses sum aggregation + MLP for expressive updates."
   ]
  },
  {
   "cell_type": "code",
   "execution_count": 11,
   "id": "bd928499",
   "metadata": {},
   "outputs": [],
   "source": [
    "from torch_geometric.nn import GINConv\n",
    "from torch.nn import Linear, Sequential, ReLU\n",
    "\n",
    "class GIN(torch.nn.Module):\n",
    "    def __init__(self, in_channels, hidden_channels, out_channels):\n",
    "        super().__init__()\n",
    "        nn1 = Sequential(Linear(in_channels, hidden_channels), ReLU(), Linear(hidden_channels, hidden_channels))\n",
    "        self.conv1 = GINConv(nn1)\n",
    "\n",
    "        nn2 = Sequential(Linear(hidden_channels, hidden_channels), ReLU(), Linear(hidden_channels, out_channels))\n",
    "        self.conv2 = GINConv(nn2)\n",
    "\n",
    "    def forward(self, data):\n",
    "        x, edge_index = data.x, data.edge_index\n",
    "        x = F.relu(self.conv1(x, edge_index))\n",
    "        x = F.dropout(x, p=0.5, training=self.training)\n",
    "        x = self.conv2(x, edge_index)\n",
    "        return F.log_softmax(x, dim=1)\n"
   ]
  },
  {
   "cell_type": "code",
   "execution_count": 12,
   "id": "1750d862",
   "metadata": {},
   "outputs": [
    {
     "name": "stdout",
     "output_type": "stream",
     "text": [
      "GIN Accuracy: 0.7390\n"
     ]
    }
   ],
   "source": [
    "model = GIN(dataset.num_features, 32, dataset.num_classes)\n",
    "optimizer = torch.optim.Adam(model.parameters(), lr=0.01)\n",
    "\n",
    "for epoch in range(200):\n",
    "    model.train()\n",
    "    optimizer.zero_grad()\n",
    "    out = model(data)\n",
    "    loss = F.nll_loss(out[data.train_mask], data.y[data.train_mask])\n",
    "    loss.backward()\n",
    "    optimizer.step()\n",
    "\n",
    "model.eval()\n",
    "pred = out.argmax(dim=1)\n",
    "acc = (pred[data.test_mask] == data.y[data.test_mask]).sum() / int(data.test_mask.sum())\n",
    "print(f\"GIN Accuracy: {acc:.4f}\")\n"
   ]
  },
  {
   "cell_type": "markdown",
   "id": "a2612658",
   "metadata": {},
   "source": [
    "# 6. Compare Models"
   ]
  },
  {
   "cell_type": "markdown",
   "id": "6bb0b7ac",
   "metadata": {},
   "source": [
    "| Model     | Aggregation        | Key Feature                   | Typical Accuracy (Cora) |\n",
    "| --------- | ------------------ | ----------------------------- | ----------------------- |\n",
    "| GCN       | Mean               | Spectral Conv                 | ~80%                    |\n",
    "| GAT       | Attention-weighted | Learnable neighbor importance | ~60%                    |\n",
    "| GraphSAGE | Mean/Max/Sum       | Inductive sampling            | ~74%                    |\n",
    "| GIN       | Sum + MLP          | High expressiveness           | ~73%                    |\n"
   ]
  },
  {
   "cell_type": "markdown",
   "id": "5fd4561a",
   "metadata": {},
   "source": [
    "# Exercises"
   ]
  },
  {
   "cell_type": "markdown",
   "id": "dcd2c761",
   "metadata": {},
   "source": [
    "## EX1: Try Different Aggregations in GraphSAGE\n",
    "\n"
   ]
  },
  {
   "cell_type": "code",
   "execution_count": 13,
   "id": "7ea121bd",
   "metadata": {},
   "outputs": [],
   "source": [
    "#Replace:\n",
    "\n",
    "#SAGEConv(in_channels, hidden_channels, aggr=\"max\")\n",
    "\n",
    "#Compare \"mean\", \"max\", \"sum\" aggregations."
   ]
  },
  {
   "cell_type": "markdown",
   "id": "ed824cae",
   "metadata": {},
   "source": [
    "# EX2 Exercise 2 — Attention Heads in GAT\n",
    "\n"
   ]
  },
  {
   "cell_type": "code",
   "execution_count": null,
   "id": "d855883c",
   "metadata": {},
   "outputs": [],
   "source": [
    "\n",
    "#Try:\n",
    "##model = GAT(dataset.num_features, 8, dataset.num_classes, heads=4)\n",
    "##Then heads=8, heads=16.\n",
    "#Measure how multi-head attention changes performance."
   ]
  },
  {
   "cell_type": "markdown",
   "id": "eb36b26f",
   "metadata": {},
   "source": [
    "## Exercise 3 — Embedding Visualization"
   ]
  },
  {
   "cell_type": "code",
   "execution_count": 14,
   "id": "7ca3f306",
   "metadata": {},
   "outputs": [],
   "source": [
    "# Use t-SNE again:\n",
    "\n",
    "# from sklearn.manifold import TSNE\n",
    "# import matplotlib.pyplot as plt\n",
    "# \n",
    "# z = model.conv1(data.x, data.edge_index).detach()\n",
    "# z_2d = TSNE(n_components=2).fit_transform(z)\n",
    "# plt.scatter(z_2d[:,0], z_2d[:,1], c=data.y, cmap='tab10', s=15)\n",
    "# plt.title(\"Node Embeddings Visualization\")\n",
    "# plt.show()"
   ]
  },
  {
   "cell_type": "markdown",
   "id": "94752329",
   "metadata": {},
   "source": []
  }
 ],
 "metadata": {
  "kernelspec": {
   "display_name": "Python 3",
   "language": "python",
   "name": "python3"
  },
  "language_info": {
   "codemirror_mode": {
    "name": "ipython",
    "version": 3
   },
   "file_extension": ".py",
   "mimetype": "text/x-python",
   "name": "python",
   "nbconvert_exporter": "python",
   "pygments_lexer": "ipython3",
   "version": "3.10.11"
  }
 },
 "nbformat": 4,
 "nbformat_minor": 5
}
